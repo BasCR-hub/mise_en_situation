{
 "metadata": {
  "language_info": {
   "codemirror_mode": {
    "name": "ipython",
    "version": 3
   },
   "file_extension": ".py",
   "mimetype": "text/x-python",
   "name": "python",
   "nbconvert_exporter": "python",
   "pygments_lexer": "ipython3",
   "version": "3.8.5-final"
  },
  "orig_nbformat": 2,
  "kernelspec": {
   "name": "python38564bita83428f74dcb4001b8c207c3278f2449",
   "display_name": "Python 3.8.5 64-bit",
   "language": "python"
  }
 },
 "nbformat": 4,
 "nbformat_minor": 2,
 "cells": [
  {
   "cell_type": "code",
   "execution_count": 3,
   "metadata": {},
   "outputs": [],
   "source": [
    "import joblib\n",
    "from sklearn.model_selection import train_test_split, GridSearchCV\n",
    "import pandas as pd\n",
    "import numpy as np\n",
    "import sklearn\n",
    "from sklearn.pipeline import Pipeline\n",
    "from sklearn.feature_extraction.text import TfidfVectorizer\n",
    "from sklearn.ensemble import RandomForestClassifier\n",
    "from sklearn.linear_model import LogisticRegression\n",
    "from sklearn.naive_bayes import GaussianNB\n",
    "from switcher_class import ClfSwitcher\n"
   ]
  },
  {
   "cell_type": "code",
   "execution_count": 17,
   "metadata": {},
   "outputs": [],
   "source": [
    "df = pd.read_csv(\"comments_train.csv\")\n",
    "X = df['comment']\n",
    "y = df['sentiment'].map({\"Positive\":1,\"Negative\":0})\n",
    "X_train, X_test, y_train, y_test = train_test_split(X, y, test_size=0.33, random_state=42)\n",
    "\n",
    "\n",
    "pipeline = Pipeline([\n",
    "    ('tfidf', TfidfVectorizer()),\n",
    "    ('clf', ClfSwitcher()),\n",
    "    ])\n",
    "\n",
    "parameters = [\n",
    "    {\n",
    "        'clf__estimator': [RandomForestClassifier()],\n",
    "        'tfidf__stop_words': ['french', None],\n",
    "        'tfidf__ngram_range' : [(1,1),(1,2)],\n",
    "        'tfidf__max_df': (0.25, 0.5, 0.75, 1.0),\n",
    "        'clf__estimator__n_estimators': [100,300],\n",
    "        'clf__estimator__max_depth': [4,6],\n",
    "        'clf__estimator__min_samples_leaf': [3,5,10],\n",
    "    },\n",
    "    {\n",
    "        'clf__estimator': [LogisticRegression()],\n",
    "        'tfidf__stop_words': ['french', None],\n",
    "        'tfidf__ngram_range' : [(1,1),(1,2)],\n",
    "        'tfidf__max_df': (0.25, 0.5, 0.75, 1.0),\n",
    "        'clf__estimator__penalty': ['l1','l2'],\n",
    "        'clf__estimator__C': [1,10,100],\n",
    "    },\n",
    "    {\n",
    "        'clf__estimator': [GaussianNB()],\n",
    "        'tfidf__stop_words': ['french', None],\n",
    "        'tfidf__ngram_range' : [(1,1),(1,2)],\n",
    "        'tfidf__max_df': (0.25, 0.5, 0.75, 1.0),\n",
    "        'clf__estimator__var_smoothing': (1e-5, 1e-3, 1e-1),\n",
    "    },\n",
    "\n",
    "]\n"
   ]
  },
  {
   "cell_type": "code",
   "execution_count": 18,
   "metadata": {},
   "outputs": [
    {
     "output_type": "stream",
     "name": "stdout",
     "text": [
      "Fitting 5 folds for each of 336 candidates, totalling 1680 fits\n",
      "[Parallel(n_jobs=-1)]: Using backend LokyBackend with 4 concurrent workers.\n",
      "[Parallel(n_jobs=-1)]: Done  42 tasks      | elapsed:    4.1s\n",
      "[Parallel(n_jobs=-1)]: Done 192 tasks      | elapsed:   19.9s\n",
      "[Parallel(n_jobs=-1)]: Done 442 tasks      | elapsed:   48.3s\n",
      "[Parallel(n_jobs=-1)]: Done 792 tasks      | elapsed:  1.5min\n",
      "[Parallel(n_jobs=-1)]: Done 1680 out of 1680 | elapsed:  2.2min finished\n"
     ]
    },
    {
     "output_type": "execute_result",
     "data": {
      "text/plain": [
       "GridSearchCV(cv=5,\n",
       "             estimator=Pipeline(steps=[('tfidf', TfidfVectorizer()),\n",
       "                                       ('clf', ClfSwitcher())]),\n",
       "             n_jobs=-1,\n",
       "             param_grid=[{'clf__estimator': [RandomForestClassifier()],\n",
       "                          'clf__estimator__max_depth': [4, 6],\n",
       "                          'clf__estimator__min_samples_leaf': [3, 5, 10],\n",
       "                          'clf__estimator__n_estimators': [100, 300],\n",
       "                          'tfidf__max_df': (0.25, 0.5, 0.75, 1.0),\n",
       "                          'tfidf__ngram_range': [(1, 1), (1, 2...\n",
       "                          'clf__estimator__penalty': ['l1', 'l2'],\n",
       "                          'tfidf__max_df': (0.25, 0.5, 0.75, 1.0),\n",
       "                          'tfidf__ngram_range': [(1, 1), (1, 2)],\n",
       "                          'tfidf__stop_words': ['french', None]},\n",
       "                         {'clf__estimator': [GaussianNB()],\n",
       "                          'clf__estimator__var_smoothing': (1e-05, 0.001, 0.1),\n",
       "                          'tfidf__max_df': (0.25, 0.5, 0.75, 1.0),\n",
       "                          'tfidf__ngram_range': [(1, 1), (1, 2)],\n",
       "                          'tfidf__stop_words': ['french', None]}],\n",
       "             scoring='roc_auc', verbose=1)"
      ]
     },
     "metadata": {},
     "execution_count": 18
    }
   ],
   "source": [
    "gscv = GridSearchCV(pipeline, parameters, cv=5, n_jobs=-1, scoring = 'roc_auc',verbose=1)\n",
    "gscv.fit(X_train,y_train)"
   ]
  },
  {
   "cell_type": "code",
   "execution_count": 25,
   "metadata": {},
   "outputs": [
    {
     "output_type": "execute_result",
     "data": {
      "text/plain": [
       "0.8410287081339713"
      ]
     },
     "metadata": {},
     "execution_count": 25
    }
   ],
   "source": [
    "model = gscv.best_estimator_\n",
    "print(model)\n",
    "preds = model.predict(X_test)\n",
    "sklearn.metrics.roc_auc_score(preds,y_test)"
   ]
  }
 ]
}